{
 "cells": [
  {
   "cell_type": "code",
   "execution_count": 218,
   "id": "0b48b789-4000-4511-aa91-39a91b27f10c",
   "metadata": {
    "tags": []
   },
   "outputs": [],
   "source": [
    "from blind_exp import BlindExp"
   ]
  },
  {
   "cell_type": "markdown",
   "id": "402eff8c-4d4a-48b1-9946-5b088f2545fa",
   "metadata": {},
   "source": [
    "# USAGE\n",
    "1. Initialize experiment using the top level experiment directory"
   ]
  },
  {
   "cell_type": "code",
   "execution_count": 220,
   "id": "beb76b9f-4178-4aa9-a187-13f41955ae6c",
   "metadata": {
    "tags": []
   },
   "outputs": [
    {
     "name": "stdout",
     "output_type": "stream",
     "text": [
      "Opening existing translation dict...\n",
      "Opening existing experiment info dict...\n"
     ]
    }
   ],
   "source": [
    "exp_dir = \"/Volumes/the_box/phenix/04-05 crawling__2023-04-05T11_32_49-Measurement 1\"\n",
    "exp0405 = BlindExp(exp_dir)"
   ]
  },
  {
   "cell_type": "markdown",
   "id": "b1653b04-5898-46b8-a2eb-00157e1d2304",
   "metadata": {},
   "source": [
    "# Blinding\n",
    "1. Default is dry_run"
   ]
  },
  {
   "cell_type": "code",
   "execution_count": null,
   "id": "c6b32e72-9bb0-4290-9899-ae787e033a5a",
   "metadata": {
    "tags": []
   },
   "outputs": [],
   "source": [
    "exp0405.translate_exp(\"blind\",dry_run=False)"
   ]
  },
  {
   "cell_type": "code",
   "execution_count": null,
   "id": "aab4e606-38ed-4d16-a858-80d6dac2f54a",
   "metadata": {},
   "outputs": [],
   "source": []
  }
 ],
 "metadata": {
  "kernelspec": {
   "display_name": "Python 3 (ipykernel)",
   "language": "python",
   "name": "python3"
  },
  "language_info": {
   "codemirror_mode": {
    "name": "ipython",
    "version": 3
   },
   "file_extension": ".py",
   "mimetype": "text/x-python",
   "name": "python",
   "nbconvert_exporter": "python",
   "pygments_lexer": "ipython3",
   "version": "3.9.16"
  }
 },
 "nbformat": 4,
 "nbformat_minor": 5
}
